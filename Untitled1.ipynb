{
  "nbformat": 4,
  "nbformat_minor": 0,
  "metadata": {
    "colab": {
      "provenance": [],
      "mount_file_id": "1sXr-d7_mBHyiG9x8L2VYMOhgqVSM4keh",
      "authorship_tag": "ABX9TyMVXrZHq24tA7C3n+AK5ctl",
      "include_colab_link": true
    },
    "kernelspec": {
      "name": "python3",
      "display_name": "Python 3"
    },
    "language_info": {
      "name": "python"
    }
  },
  "cells": [
    {
      "cell_type": "markdown",
      "metadata": {
        "id": "view-in-github",
        "colab_type": "text"
      },
      "source": [
        "<a href=\"https://colab.research.google.com/github/unbrandbanking/unbrandbank/blob/main/Untitled1.ipynb\" target=\"_parent\"><img src=\"https://colab.research.google.com/assets/colab-badge.svg\" alt=\"Open In Colab\"/></a>"
      ]
    },
    {
      "cell_type": "code",
      "source": [
        "!git remote add origin https://github.com/unbrandbanking/COLabsGS.git"
      ],
      "metadata": {
        "id": "Uj5cYghh8T5k"
      },
      "execution_count": null,
      "outputs": []
    }
  ]
}